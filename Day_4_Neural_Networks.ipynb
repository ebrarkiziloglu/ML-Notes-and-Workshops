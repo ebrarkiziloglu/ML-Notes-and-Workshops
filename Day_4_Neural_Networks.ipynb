{
  "nbformat": 4,
  "nbformat_minor": 0,
  "metadata": {
    "colab": {
      "provenance": [],
      "authorship_tag": "ABX9TyP3RrlBZuawv8eJUos+HYRi",
      "include_colab_link": true
    },
    "kernelspec": {
      "name": "python3",
      "display_name": "Python 3"
    },
    "language_info": {
      "name": "python"
    }
  },
  "cells": [
    {
      "cell_type": "markdown",
      "metadata": {
        "id": "view-in-github",
        "colab_type": "text"
      },
      "source": [
        "<a href=\"https://colab.research.google.com/github/ebrarkiziloglu/ML-Notes-and-Workshops/blob/main/Day_4_Neural_Networks.ipynb\" target=\"_parent\"><img src=\"https://colab.research.google.com/assets/colab-badge.svg\" alt=\"Open In Colab\"/></a>"
      ]
    },
    {
      "cell_type": "markdown",
      "source": [
        "# Neural Networks \n",
        "\n",
        "* input layer\n",
        "* hidden layers\n",
        "* output layer\n",
        "\n",
        "![a simple model](https://upload.wikimedia.org/wikipedia/commons/thumb/9/99/Neural_network_example.svg/1200px-Neural_network_example.svg.png)\n",
        "\n",
        "We'll use pytorch module for this implementation."
      ],
      "metadata": {
        "id": "_JlDQSRT6Yk1"
      }
    },
    {
      "cell_type": "code",
      "execution_count": null,
      "metadata": {
        "id": "jRsoA6rE6R8a"
      },
      "outputs": [],
      "source": [
        "from torch.nn.functional import F\n",
        "\n",
        "class MyNeuralNetwork(nn.Module):\n",
        "  def __init__(self):\n",
        "    super().__init__()\n",
        "    self.layer1 = nn.Linear(num_of_input_nodes, num_of_outgoing_nodes)\n",
        "    ...\n",
        "    self.layeri = nn.Linear(num_of_incoming_nodes, num_of_outgoing_nodes)\n",
        "    ...\n",
        "    self.out = nn.Linear(num_of_incoming_nodes, num_of_output_nodes)\n",
        "\n",
        "  def forward(self, x):\n",
        "    x = F.sigmoid(self.layer1(x))\n",
        "    ...\n",
        "    x = F.relu(self.layeri(x))\n",
        "    ...\n",
        "    return F.sigmoid(self.out(x))\n",
        "\n",
        "model = MyNeuralNetwork()\n",
        "print(model)\n"
      ]
    },
    {
      "cell_type": "code",
      "source": [],
      "metadata": {
        "id": "iQfDMmxpFCH0"
      },
      "execution_count": null,
      "outputs": []
    }
  ]
}