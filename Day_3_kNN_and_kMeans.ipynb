{
  "nbformat": 4,
  "nbformat_minor": 0,
  "metadata": {
    "colab": {
      "provenance": [],
      "authorship_tag": "ABX9TyOrnjFVDX2wLa/l38pKrCtq",
      "include_colab_link": true
    },
    "kernelspec": {
      "name": "python3",
      "display_name": "Python 3"
    },
    "language_info": {
      "name": "python"
    }
  },
  "cells": [
    {
      "cell_type": "markdown",
      "metadata": {
        "id": "view-in-github",
        "colab_type": "text"
      },
      "source": [
        "<a href=\"https://colab.research.google.com/github/ebrarkiziloglu/ML-Notes-and-Workshops/blob/main/Day_3_kNN_and_kMeans.ipynb\" target=\"_parent\"><img src=\"https://colab.research.google.com/assets/colab-badge.svg\" alt=\"Open In Colab\"/></a>"
      ]
    },
    {
      "cell_type": "markdown",
      "source": [
        "# kNN - k Nearest Neighbors\n",
        "\n",
        "* For a given point, cover the distance between this point and the data points.\n",
        "* Take the nearest k data points (can be stored in a min heap imo).\n",
        "* Among these k data points, observe which class is superior.\n",
        "\n"
      ],
      "metadata": {
        "id": "Nv7Jw2vknqLf"
      }
    },
    {
      "cell_type": "code",
      "execution_count": null,
      "metadata": {
        "id": "e6cVxRdjnQIw"
      },
      "outputs": [],
      "source": [
        "# First standardize the data\n",
        "\n",
        "# kNN:\n",
        "k = 3\n",
        "classifier = neighbors.KNeighborsClassifier(n_neighbors=k)\n",
        "classifier.fit(x_train, y_train)\n",
        "\n",
        "# Accuracy:\n",
        "classifier.score(x_test, y_test)"
      ]
    },
    {
      "cell_type": "markdown",
      "source": [
        "# K-means\n",
        "\n",
        "Choose k data points randomly from the data, as the initial centroids.\n",
        "While convergence:\n",
        "1. Assign clusters\n",
        "2. Take the mean of each cluster\n",
        "3. Update the centroids according to these means.\n",
        "4. Return to step 1"
      ],
      "metadata": {
        "id": "VnjS-YjUc_tW"
      }
    },
    {
      "cell_type": "code",
      "source": [
        "from sklearn.cluster import KMeans\n",
        "k = 14\n",
        "kmeans = KMeans(n_clusters=k, random_state=0) \n",
        "kmeans.fit(X)\n",
        "kmeans.inertia_"
      ],
      "metadata": {
        "id": "ah6aUYY1g3cB"
      },
      "execution_count": null,
      "outputs": []
    }
  ]
}