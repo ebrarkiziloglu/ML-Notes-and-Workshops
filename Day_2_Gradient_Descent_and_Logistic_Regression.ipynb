{
  "nbformat": 4,
  "nbformat_minor": 0,
  "metadata": {
    "colab": {
      "provenance": [],
      "authorship_tag": "ABX9TyNxBXVD9Iwf647XVyrwe2Q+",
      "include_colab_link": true
    },
    "kernelspec": {
      "name": "python3",
      "display_name": "Python 3"
    },
    "language_info": {
      "name": "python"
    }
  },
  "cells": [
    {
      "cell_type": "markdown",
      "metadata": {
        "id": "view-in-github",
        "colab_type": "text"
      },
      "source": [
        "<a href=\"https://colab.research.google.com/github/ebrarkiziloglu/ML-Notes-and-Workshops/blob/main/Day_2_Gradient_Descent_and_Logistic_Regression.ipynb\" target=\"_parent\"><img src=\"https://colab.research.google.com/assets/colab-badge.svg\" alt=\"Open In Colab\"/></a>"
      ]
    },
    {
      "cell_type": "markdown",
      "source": [
        "# Gradient Descent\n",
        "\n",
        "## Simple Gradient Descent\n",
        "\n",
        "* Start from an initial point.\n",
        "* Take the dervitaive / gradients of the cost function at each step, to determine the next step.\n",
        "* Use a step size, eta value of your choice. \n",
        "\n",
        "***!! The classical way is VERRRY small for huge data.***\n",
        "\n",
        "## Stochastic Gradient Descent (SGD)\n",
        "\n",
        "\n",
        "\n"
      ],
      "metadata": {
        "id": "9oIgFfYzb0CA"
      }
    },
    {
      "cell_type": "code",
      "execution_count": null,
      "metadata": {
        "id": "OP_ukUy5bwcI"
      },
      "outputs": [],
      "source": [
        "from sklearn import preprocessing\n",
        "from sklearn.model_selection import train_test_split\n",
        "\n",
        "train_X, val_X, train_y, val_y = train_test_split(X, y, random_state=2)\n",
        "scaler = preprocessing.StandardScaler()\n",
        "train_X = scaler.fit_transform(train_X)\n",
        "val_X = scaler.tranform(val_X)\n",
        "\n"
      ]
    },
    {
      "cell_type": "markdown",
      "source": [
        "What if the output is binary - taking only values 0 or 1 (or multinomial):\n",
        "\n",
        "# Logistic Regression\n",
        "\n"
      ],
      "metadata": {
        "id": "l55aYh_d3aij"
      }
    },
    {
      "cell_type": "code",
      "source": [
        "# Sigmoid Function: written by ChatGPT\n",
        "import matplotlib.pyplot as plt\n",
        "import numpy as np\n",
        "\n",
        "def sigmoid(X):\n",
        "    return 1 / (1 + np.exp(-X))\n",
        "\n",
        "X = np.linspace(-30, 30, 100)\n",
        "y = sigmoid(X)\n",
        "\n",
        "plt.plot(X, y)\n",
        "plt.xlabel('x')\n",
        "plt.ylabel('sigmoid(x)')\n",
        "plt.show()"
      ],
      "metadata": {
        "colab": {
          "base_uri": "https://localhost:8080/",
          "height": 279
        },
        "id": "buzlYP6849VR",
        "outputId": "7fb061c7-aab3-4830-e434-c4944f68f387"
      },
      "execution_count": null,
      "outputs": [
        {
          "output_type": "display_data",
          "data": {
            "text/plain": [
              "<Figure size 432x288 with 1 Axes>"
            ],
            "image/png": "[encoded data removed]"
          },
          "metadata": {
            "needs_background": "light"
          }
        }
      ]
    },
    {
      "cell_type": "code",
      "source": [
        "# Use the sigmoid function in the gradient calculations, for Logistic Regression:\n",
        "def gradient_w(w, b, X, y):\n",
        "  return X.T.dot(sigmoid(w.dot(X.T) + b) - y)"
      ],
      "metadata": {
        "id": "YjXP8FCK5TOu"
      },
      "execution_count": null,
      "outputs": []
    },
    {
      "cell_type": "markdown",
      "source": [],
      "metadata": {
        "id": "2zTYUyZaAwRl"
      }
    }
  ]
}